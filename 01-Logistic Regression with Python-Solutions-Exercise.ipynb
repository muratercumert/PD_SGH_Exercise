{
 "cells": [
  {
   "cell_type": "markdown",
   "metadata": {},
   "source": [
    "\n",
    "___\n",
    "# Probablity of Default model with Python\n",
    "\n",
    "For this lecture we will be working with the credit risk dataset. This is prepared for the student's as a first step in credit risk ! \n",
    "\n",
    "We'll be trying to predict a classification- default or not default.\n",
    "Let's begin our understanding of implementing Logistic Regression in Python for classification.\n",
    "\n",
    "We'll use a \"semi-cleaned\" version of the credit risk data set\n",
    "\n",
    "## Import Libraries\n",
    "Let's import some libraries to get started!"
   ]
  },
  {
   "cell_type": "code",
   "execution_count": null,
   "metadata": {},
   "outputs": [],
   "source": [
    "import _____ as pd\n",
    "import _____ as np\n",
    "import _____ as plt\n",
    "import _____ as sns\n",
    "%matplotlib inline"
   ]
  },
  {
   "cell_type": "markdown",
   "metadata": {},
   "source": [
    "## Load the Data\n",
    "\n",
    "Let's start by reading in the pd_dummy_dataset.csv file into a pandas dataframe."
   ]
  },
  {
   "cell_type": "code",
   "execution_count": null,
   "metadata": {},
   "outputs": [],
   "source": [
    "df = pd._______('pd_dataset.csv')"
   ]
  },
  {
   "cell_type": "markdown",
   "metadata": {},
   "source": [
    "## Exercise 1 \n",
    "Using the table PD_dataset, create the following samples to be used for creating the model:\n",
    "\n",
    "1. ) Development sample: (70% obsevations)\n",
    "2. ) Test sample: (remaining 30% obsevations)\n",
    "\n"
   ]
  },
  {
   "cell_type": "code",
   "execution_count": null,
   "metadata": {},
   "outputs": [],
   "source": [
    "#load the function \n",
    "from sklearn.model_selection import ___________\n",
    "\n",
    "#divide the dataset into the development and test sample. \n",
    "X_train, X_test = _________(df, test_size=____, \n",
    "                                                    random_state=101)"
   ]
  },
  {
   "cell_type": "code",
   "execution_count": null,
   "metadata": {},
   "outputs": [],
   "source": [
    "pd.set_option('display.max_columns', None)\n",
    "X_train.reset_index(inplace=True)\n",
    "X_train.head()"
   ]
  },
  {
   "cell_type": "markdown",
   "metadata": {},
   "source": [
    "## Univariate analysis \n",
    "\n",
    "## Exercise 2 \n",
    "Perform an univariate analysis of all the variables involved (except for: PD, Rating, Score, snapshot_year, cif_combo, spapshot_date, into_default) in the development sample table created before, in order to determinate if all of them are candidates or if any adjustment it is needed, by obtaining the following:\n",
    "\n",
    "- Number of observations\n",
    "- Mean, std,\n",
    "- Maximum, Minimum \n",
    "- Percentiles 25, 50, 75\n",
    "- Number of missing and zero values\n",
    "- Histogram of the variable \n",
    "\n",
    "Hint : describe, info, isna, hist"
   ]
  },
  {
   "cell_type": "code",
   "execution_count": null,
   "metadata": {},
   "outputs": [],
   "source": [
    "#describe the data\n",
    "X_train.______(include='all')"
   ]
  },
  {
   "cell_type": "code",
   "execution_count": null,
   "metadata": {},
   "outputs": [],
   "source": [
    "#get info of the data\n",
    "X_train.____()"
   ]
  },
  {
   "cell_type": "code",
   "execution_count": null,
   "metadata": {},
   "outputs": [],
   "source": [
    "#calculate the Number of missing\n",
    "X_train.____().sum()"
   ]
  },
  {
   "cell_type": "code",
   "execution_count": null,
   "metadata": {},
   "outputs": [],
   "source": [
    "for i in X_train.______:\n",
    "    column = X_train[i]\n",
    "    # Get the count of Zeros in column \n",
    "    count = (column == _).sum()\n",
    "    print('Count of zeros in columbn ', i, ' is : ', count)"
   ]
  },
  {
   "cell_type": "code",
   "execution_count": null,
   "metadata": {},
   "outputs": [],
   "source": [
    "#select only numeric columns and plot the histogram\n",
    "numerics = ['int16', 'int32', 'int64', 'float16', 'float32', 'float64']\n",
    "\n",
    "newdf = X_train.select_dtypes(include=numerics)\n",
    "\n",
    "newdf.___(bins=30, figsize=(15, 10))"
   ]
  },
  {
   "cell_type": "code",
   "execution_count": null,
   "metadata": {},
   "outputs": [],
   "source": [
    "newdf=X_train.select_dtypes(exclude=['object'])\n",
    "for column in newdf:\n",
    "        plt.figure(figsize=(17,1))\n",
    "        sns.boxplot(data=newdf, x=column)"
   ]
  },
  {
   "cell_type": "code",
   "execution_count": null,
   "metadata": {},
   "outputs": [],
   "source": [
    "sns.catplot(data=df, x=\"_________\", y=\"PD\", kind=\"box\")\n",
    "sns.catplot(data=df, x=\"_________\", y=\"PD\", kind=\"box\")\n",
    "sns.catplot(data=df, x=\"_________\", y=\"PD\", kind=\"box\")\n",
    "sns.catplot(data=df, x=\"_________\", y=\"PD\", kind=\"box\")\n",
    "sns.catplot(data=df, x=\"_________\", y=\"PD\", kind=\"box\")"
   ]
  },
  {
   "cell_type": "markdown",
   "metadata": {},
   "source": [
    "## Exercise 2 part 2 :\n",
    "With the analysis obtained classify each variable into the following categories:\n",
    "\n",
    "- Keep or delete\n",
    "\n",
    "Hint : Which of the variable(s) should be kept or deleted - Business perspective and descriptive statistic"
   ]
  },
  {
   "cell_type": "code",
   "execution_count": null,
   "metadata": {},
   "outputs": [],
   "source": [
    "X_train.head()"
   ]
  },
  {
   "cell_type": "code",
   "execution_count": null,
   "metadata": {},
   "outputs": [],
   "source": [
    "X_train = X_train.drop(columns=[______])"
   ]
  },
  {
   "cell_type": "code",
   "execution_count": null,
   "metadata": {},
   "outputs": [],
   "source": [
    "X_train.head()"
   ]
  },
  {
   "cell_type": "markdown",
   "metadata": {},
   "source": [
    "# Exercise 3 - Part 1 \n",
    "\n",
    "Using the development sample table perform the bivariate analysis of all the variables that pass the previous univariate analysis, obtaining the following:\n",
    "- ROC value\n",
    "- P value\n",
    "- Beta \n",
    "- Standard error\n",
    "\n",
    "Hint : OLS, roc_auc_score\n"
   ]
  },
  {
   "cell_type": "code",
   "execution_count": null,
   "metadata": {},
   "outputs": [],
   "source": [
    "import statsmodels.api as sm\n",
    "from sklearn.metrics import _______\n",
    "\n",
    "newdf=X_train.select_dtypes(exclude=['object'])\n",
    "df2 = pd.DataFrame()\n",
    "for i in range(2,len(newdf.columns)):\n",
    "    #define target variable\n",
    "    y = newdf['______']\n",
    "    \n",
    "    #define explanatory variable\n",
    "    x = newdf.iloc[:,i]\n",
    "    \n",
    "    #fit linear regression model\n",
    "    model = sm.OLS(_, _).fit()\n",
    "    \n",
    "    #name\n",
    "    df2.loc[i,'name'] =model.summary2().tables[1].index[0]\n",
    "    \n",
    "    #coef\n",
    "    df2.loc[i,'_____'] = round(model.summary2().tables[1].iloc[0,0],6)\n",
    "    \n",
    "    #std err\n",
    "    df2.loc[i,'_____'] = round(model.summary2().tables[1].iloc[0,1],6)\n",
    "    \n",
    "    #p value\n",
    "    df2.loc[i,'_____'] = round(model.summary2().tables[1].iloc[0,3],2)\n",
    "    \n",
    "    #auc value\n",
    "    df2.loc[i,'auc'] = round(_______(y, model.predict(newdf.iloc[:,i])),2)\n",
    "df2"
   ]
  },
  {
   "attachments": {
    "monotonic-relationship.png": {
     "image/png": "[encoded data removed]"
    },
    "woe.png": {
     "image/png": "[encoded data removed]"
    }
   },
   "cell_type": "markdown",
   "metadata": {},
   "source": [
    "# Exercise 3 - Part 2\n",
    "\n",
    "- __Graphic each one of the explanatory variables with the default:__\n",
    "    * For the continuous variables, plot the information by deciles. (Hint : qcut, pointplot, groupby)\n",
    "    * For discrete or categorical variables plot the entire information. (Hint : pointplot, groupby)\n",
    "- __With the previous graphics, categorize the variables in order to create buckets with significant difference level of default with an adequate tendency.__ Hint: replace\n",
    "![monotonic-relationship.png](attachment:monotonic-relationship.png)\n",
    "- __Create the WOE of the variable and their corresponding graphics.__\n",
    "![woe.png](attachment:woe.png)\n",
    "\n",
    "Hint : crosstab, \n",
    "```python\n",
    "for i in range(len(X_train)):\n",
    "    if X_train.loc[i,'loan_purpose'] == x['woe'].index[0]:\n",
    "        X_train.loc[i,'loan_purpose_woe'] = x['woe'][0]\n",
    "    elif X_train.loc[i,'loan_purpose'] == x['woe'].index[1]:\n",
    "        X_train.loc[i,'loan_purpose_woe'] = x['woe'][1]\n",
    "        \n",
    "X_train['balance_sum_eur'] = np.where((X_train['balance_sum_eur'] < ______),'A',\\\n",
    "        np.where((X_train['balance_sum_eur'] > 60707) & (X_train['balance_sum_eur'] < ______), 'B', 'C'))\n",
    "...\n",
    "                                            \n",
    "        ```"
   ]
  },
  {
   "cell_type": "code",
   "execution_count": null,
   "metadata": {
    "scrolled": false
   },
   "outputs": [],
   "source": [
    "#Graphic each one of the explanatory variables with the default - categorical variables\n",
    "newdf=X_train.select_dtypes(include=['object'])\n",
    "newdf['default'] = X_train.into_default\n",
    "for i in list(newdf.iloc[:, 0:-1].columns):\n",
    "    plt.figure()\n",
    "    #mean of the target variable\n",
    "    plot = newdf.______(i, as_index=False)['_____'].mean()\n",
    "    sns.pointplot(x=i,y='______',data=plot,color='darkorange')\n",
    "    #frequency of each unique values\n",
    "    print(newdf.groupby(i, as_index=False)['______'].count().iloc[:,1]/len(newdf))\n",
    "    plt.show()"
   ]
  },
  {
   "cell_type": "code",
   "execution_count": null,
   "metadata": {},
   "outputs": [],
   "source": [
    "#With the previous graphics, categorize the variables in order to create buckets \n",
    "#with significant difference level of default with an adequate tendency\n",
    "#example with replace :\n",
    "X_train['Class_Chan_Ref_LoDoc'] = X_train.___________.replace('A' , 'AB')\\\n",
    "                                    .replace('B' , 'AB')\\\n",
    "                                    .replace('D' , 'DE')\\\n",
    "                                    .replace('E' , 'DE')\n",
    "X_train['Class_DTI'] = \n",
    "X_train['Class_Initial_LTV'] = \n",
    "\n",
    "X_train['Class_Pay_Ahead'] = \n",
    "X_train['Class_Pay_Hist'] = \n",
    "\n",
    "X_train['Class_Pay_Status'] = \n",
    "\n",
    "X_train['Class_Redraw_Change'] = \n",
    "X_train['Class_Repay_Stat'] = \n",
    "\n"
   ]
  },
  {
   "cell_type": "code",
   "execution_count": null,
   "metadata": {
    "scrolled": true
   },
   "outputs": [],
   "source": [
    "#Graphic each one of the explanatory variables with the default - continuous variables\n",
    "newdf=X_train.______(exclude=['object'])\n",
    "for i in list(newdf.loc[:, ['_______','______','_______']].columns):\n",
    "    plt.figure()\n",
    "    newdf[i] =pd.qcut(X_train[i], q=3)\n",
    "    #mean of the target variable\n",
    "    plot = newdf.groupby(i, as_index=False)['_______'].mean()\n",
    "    sns.pointplot(x=i,y='_______',data=plot,color='darkorange')\n",
    "    plt.xticks(rotation=90)\n",
    "    #frequency of each unique values\n",
    "    print(newdf.groupby(i, as_index=False)['_______'].count().iloc[:,1]/len(newdf))\n",
    "    plt.show()"
   ]
  },
  {
   "cell_type": "code",
   "execution_count": null,
   "metadata": {
    "scrolled": true
   },
   "outputs": [],
   "source": [
    "#Create the WOE of the variable\n",
    "x = pd.crosstab(X_train['Class_Chan_Ref_LoDoc'],X_train['into_default'], normalize='columns').assign(woe=lambda dfx: np.log(dfx[1] / dfx[0]))\n",
    "\n",
    "for i in range(len(X_train)):\n",
    "    if X_train.loc[i,'Class_Chan_Ref_LoDoc'] == x['woe'].index[0]:\n",
    "        X_train.loc[i,'Class_Chan_Ref_LoDoc_woe'] = x['woe'][0]\n",
    "    elif X_train.loc[i,'Class_Chan_Ref_LoDoc'] == x['woe'].index[1]:\n",
    "        X_train.loc[i,'Class_Chan_Ref_LoDoc_woe'] = x['woe'][1]\n",
    "    elif X_train.loc[i,'Class_Chan_Ref_LoDoc'] == x['woe'].index[2]:\n",
    "        X_train.loc[i,'Class_Chan_Ref_LoDoc_woe'] = x['woe'][2]\n",
    "        \n",
    "X_train.head()"
   ]
  },
  {
   "cell_type": "code",
   "execution_count": null,
   "metadata": {},
   "outputs": [],
   "source": [
    "#Create the WOE of the variable\n",
    "#loan_purpose"
   ]
  },
  {
   "cell_type": "code",
   "execution_count": null,
   "metadata": {},
   "outputs": [],
   "source": [
    "#Create the WOE of the variable\n",
    "#class_DTI"
   ]
  },
  {
   "cell_type": "code",
   "execution_count": null,
   "metadata": {},
   "outputs": [],
   "source": [
    "#Create the WOE of the variable\n",
    "#Class_Initial_LTV\n"
   ]
  },
  {
   "cell_type": "code",
   "execution_count": null,
   "metadata": {},
   "outputs": [],
   "source": [
    "#Create the WOE of the variable\n",
    "#Class_Pay_Ahead"
   ]
  },
  {
   "cell_type": "code",
   "execution_count": null,
   "metadata": {
    "scrolled": true
   },
   "outputs": [],
   "source": [
    "#Create the WOE of the variable\n",
    "#Class_Pay_Hist"
   ]
  },
  {
   "cell_type": "code",
   "execution_count": null,
   "metadata": {},
   "outputs": [],
   "source": [
    "#Create the WOE of the variable\n",
    "#Class_Pay_Status"
   ]
  },
  {
   "cell_type": "code",
   "execution_count": null,
   "metadata": {},
   "outputs": [],
   "source": [
    "#Create the WOE of the variable\n",
    "#Class_Redraw_Change"
   ]
  },
  {
   "cell_type": "code",
   "execution_count": null,
   "metadata": {},
   "outputs": [],
   "source": [
    "#Create the WOE of the variable\n",
    "#Class_Repay_Stat"
   ]
  },
  {
   "cell_type": "code",
   "execution_count": null,
   "metadata": {},
   "outputs": [],
   "source": [
    "#Create the WOE of the variable\n",
    "X_train['balance_sum_eur'] = np.where((X_train['balance_sum_eur'] < 60707),'A',\\\n",
    "        np.where((X_train['balance_sum_eur'] > 60707) & (X_train['balance_sum_eur'] < 108863), 'B', 'C'))\n"
   ]
  },
  {
   "cell_type": "code",
   "execution_count": null,
   "metadata": {},
   "outputs": [],
   "source": [
    "#Create the WOE of the variable\n",
    "x = pd.crosstab(X_train['balance_sum_eur'],X_train['into_default'], normalize='columns').assign(woe=lambda dfx: np.log(dfx[1] / dfx[0]))\n",
    "\n",
    "for i in range(len(X_train)):\n",
    "    if X_train.loc[i,'balance_sum_eur'] == x['woe'].index[0]:\n",
    "        X_train.loc[i,'balance_sum_eur_woe'] = x['woe'][0]\n",
    "    elif X_train.loc[i,'balance_sum_eur'] == x['woe'].index[1]:\n",
    "        X_train.loc[i,'balance_sum_eur_woe'] = x['woe'][1]\n",
    "    elif X_train.loc[i,'balance_sum_eur'] == x['woe'].index[2]:\n",
    "        X_train.loc[i,'balance_sum_eur_woe'] = x['woe'][2]\n",
    "        \n",
    "X_train.head()\n"
   ]
  },
  {
   "cell_type": "code",
   "execution_count": null,
   "metadata": {},
   "outputs": [],
   "source": [
    "#Create the WOE of the variable\n",
    "#balance_sum_loc"
   ]
  },
  {
   "cell_type": "code",
   "execution_count": null,
   "metadata": {},
   "outputs": [],
   "source": [
    "#balance_sum_loc\n"
   ]
  },
  {
   "cell_type": "code",
   "execution_count": null,
   "metadata": {},
   "outputs": [],
   "source": [
    "newdf = X_train\n",
    "newdf['default'] = X_train.into_default\n",
    "newdf=newdf.iloc[:, -12:]\n",
    "newdf.head()"
   ]
  },
  {
   "cell_type": "code",
   "execution_count": null,
   "metadata": {},
   "outputs": [],
   "source": [
    "#and their corresponding graphics.\n",
    "for i in list(newdf.iloc[:, 0:-1].columns):\n",
    "    plt.figure()\n",
    "    #mean of the target variable\n",
    "    plot = newdf.groupby(i, as_index=False)['_____'].mean()\n",
    "    sns.pointplot(x=i,y='_____',data=plot,color='darkorange')\n",
    "    #frequency of each unique values\n",
    "    print(newdf.groupby(i, as_index=False)['_____'].count().iloc[:,1]/len(newdf))\n",
    "    plt.show()"
   ]
  },
  {
   "cell_type": "markdown",
   "metadata": {},
   "source": [
    "# Exercise 4\n",
    "\n",
    "Using the same table as in the previous exercises, perform the multivariate analysis of all the variables that pass the previous univariate and bivariate analysis, obtaining correlation matrix for all the variables.\n",
    "\n",
    "Hint : heatmap"
   ]
  },
  {
   "cell_type": "code",
   "execution_count": null,
   "metadata": {},
   "outputs": [],
   "source": [
    "X_train['default'] = X_train.into_default\n",
    "\n",
    "plt.figure(figsize=(16, 6))\n",
    "# Store heatmap object in a variable to easily access it when you want to include more features (such as title).\n",
    "# Set the range of values to be displayed on the colormap from -1 to 1, and set the annotation to True to display the correlation values on the heatmap.\n",
    "heatmap = sns._______(X_train.iloc[:, -13:].corr(), vmin=-1, vmax=1, annot=True)\n",
    "# Give a title to the heatmap. Pad defines the distance of the title from the top of the heatmap.\n",
    "heatmap.set_title('Correlation Heatmap', fontdict={'fontsize':12}, pad=12);"
   ]
  },
  {
   "cell_type": "markdown",
   "metadata": {},
   "source": [
    "## Exercise 5\n",
    "Using the same table (model development) as in the previous exercises, generate different alternatives of models, including the following:\n",
    "- ROC value\n",
    "- P value\n",
    "- Beta \n",
    "- Standard error\n",
    "- AUC\n",
    "\n",
    "Hint : OLS, roc_auc_score"
   ]
  },
  {
   "cell_type": "code",
   "execution_count": null,
   "metadata": {
    "scrolled": false
   },
   "outputs": [],
   "source": [
    "#let's start with bivariate analysis with each variable that grouped by acc thir WOE values\n",
    "df2 = pd.DataFrame()\n",
    "for i in range(1,len(newdf.columns)-1):\n",
    "     #define target variable\n",
    "    y = newdf['______']\n",
    "    \n",
    "    #define explanatory variable\n",
    "    x = newdf.iloc[:,i]\n",
    "    \n",
    "    #fit linear regression model\n",
    "    model = sm.OLS(_, _).fit()\n",
    "    \n",
    "    #name\n",
    "    df2.loc[i,'name'] =model.summary2().tables[1].index[0]\n",
    "    \n",
    "    #coef\n",
    "    df2.loc[i,'coeff'] = round(model.summary2().tables[1].iloc[0,0],6)\n",
    "    \n",
    "    #std err\n",
    "    df2.loc[i,'std_err'] = round(model.summary2().tables[1].iloc[0,1],6)\n",
    "    \n",
    "    #p value\n",
    "    df2.loc[i,'p_value'] = round(model.summary2().tables[1].iloc[0,3],2)\n",
    "    \n",
    "    #auc value\n",
    "    df2.loc[i,'auc'] = round(________(y, model.predict(newdf.iloc[:,i])),2)\n",
    "df2\n"
   ]
  },
  {
   "cell_type": "code",
   "execution_count": null,
   "metadata": {},
   "outputs": [],
   "source": [
    "newdf = X_train\n",
    "newdf['default'] = X_train.into_default\n",
    "newdf=newdf.iloc[:, -12:]\n",
    "newdf.head()"
   ]
  },
  {
   "cell_type": "code",
   "execution_count": null,
   "metadata": {
    "scrolled": true
   },
   "outputs": [],
   "source": [
    "#generate the logit model\n",
    "import statsmodels.formula.api as smf\n",
    "pd_model = log_reg = smf.logit(\"default ~ ________ + __________ + ...\", data=newdf).fit()\n",
    "print(pd_model.summary())"
   ]
  },
  {
   "cell_type": "code",
   "execution_count": null,
   "metadata": {},
   "outputs": [],
   "source": [
    "\n",
    "X_train['______']= pd_model.predict(X_train)"
   ]
  },
  {
   "cell_type": "code",
   "execution_count": null,
   "metadata": {
    "scrolled": true
   },
   "outputs": [],
   "source": [
    "#get the classification report\n",
    "from sklearn.metrics import classification_report\n",
    "print(classification_report(y, pd_value>0.5))"
   ]
  },
  {
   "cell_type": "code",
   "execution_count": null,
   "metadata": {},
   "outputs": [],
   "source": [
    "#plot the roc curve\n",
    "from sklearn.metrics import roc_auc_score\n",
    "from sklearn.metrics import roc_curve\n",
    "logit_roc_auc = roc_auc_score(________, ___________)\n",
    "fpr, tpr, thresholds = roc_curve(________, __________)\n",
    "plt.figure()\n",
    "plt.plot(fpr, tpr, label='Logistic Regression (area = %0.2f)' % logit_roc_auc)\n",
    "plt.plot([0, 1], [0, 1],'r--')\n",
    "plt.xlim([0.0, 1.0])\n",
    "plt.ylim([0.0, 1.05])\n",
    "plt.xlabel('False Positive Rate')\n",
    "plt.ylabel('True Positive Rate')\n",
    "plt.title('Receiver operating characteristic')\n",
    "plt.legend(loc=\"lower right\")\n",
    "plt.savefig('Log_ROC')\n",
    "plt.show()"
   ]
  },
  {
   "cell_type": "markdown",
   "metadata": {},
   "source": [
    "## Exercise 6\n",
    "With the final model created in exercise 5, build a PD, do the PD calibration, considering the following:\n",
    "\n",
    "- 7-9 risk buckets\n",
    "- Concentration for each grade less than 30%\n",
    "- Calculate the PD PiT (12 months)\n",
    "- Calculate the central tendency \n",
    "- Finally, calculate the PD TTC adjusted via Bayes with the central tendency obtained before. \n"
   ]
  },
  {
   "cell_type": "code",
   "execution_count": null,
   "metadata": {},
   "outputs": [],
   "source": [
    "X_train.head()"
   ]
  },
  {
   "cell_type": "code",
   "execution_count": null,
   "metadata": {
    "scrolled": true
   },
   "outputs": [],
   "source": [
    "#let's create the buckets\n",
    "X_train['bucket'] = pd.____(pd_value,_)\n",
    "X_train.head()"
   ]
  },
  {
   "cell_type": "code",
   "execution_count": null,
   "metadata": {
    "scrolled": true
   },
   "outputs": [],
   "source": [
    "#Check if there is any concentration \n",
    "X_train['bucket'].value_counts() / len(X_train) < ____"
   ]
  },
  {
   "cell_type": "code",
   "execution_count": null,
   "metadata": {
    "scrolled": true
   },
   "outputs": [],
   "source": [
    "#bring date information from the main dataset to be able to calculate PiT PD\n",
    "right_df = pd.DataFrame()\n",
    "right_df['index'] = df.index\n",
    "right_df['_________'] = df.snapshot_date\n",
    "X_train = X_train.merge(right_df, on='index', how='left')\n"
   ]
  },
  {
   "cell_type": "code",
   "execution_count": null,
   "metadata": {},
   "outputs": [],
   "source": [
    "#calculate the PiT PD"
   ]
  },
  {
   "cell_type": "code",
   "execution_count": null,
   "metadata": {},
   "outputs": [],
   "source": [
    "#Calculate the Central Tendency"
   ]
  },
  {
   "cell_type": "code",
   "execution_count": null,
   "metadata": {},
   "outputs": [],
   "source": [
    "#Calculate the LRA PD "
   ]
  },
  {
   "cell_type": "code",
   "execution_count": null,
   "metadata": {},
   "outputs": [],
   "source": [
    "sns.lineplot(data=df_PD.____, color=\"r\")\n",
    "ax2 = plt.twinx()\n",
    "sns.lineplot(data=df_PD.____, color=\"b\", ax=ax2)\n"
   ]
  },
  {
   "cell_type": "markdown",
   "metadata": {},
   "source": [
    "## Great Job!"
   ]
  }
 ],
 "metadata": {
  "kernelspec": {
   "display_name": "Python 3",
   "language": "python",
   "name": "python3"
  },
  "language_info": {
   "codemirror_mode": {
    "name": "ipython",
    "version": 3
   },
   "file_extension": ".py",
   "mimetype": "text/x-python",
   "name": "python",
   "nbconvert_exporter": "python",
   "pygments_lexer": "ipython3",
   "version": "3.8.3"
  }
 },
 "nbformat": 4,
 "nbformat_minor": 1
}
